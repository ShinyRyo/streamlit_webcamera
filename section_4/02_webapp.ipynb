{
  "nbformat": 4,
  "nbformat_minor": 0,
  "metadata": {
    "colab": {
      "name": "02_webapp.ipynb",
      "provenance": [],
      "collapsed_sections": [],
      "include_colab_link": true
    },
    "kernelspec": {
      "name": "python3",
      "display_name": "Python 3"
    },
    "language_info": {
      "name": "python"
    }
  },
  "cells": [
    {
      "cell_type": "markdown",
      "metadata": {
        "id": "view-in-github",
        "colab_type": "text"
      },
      "source": [
        "<a href=\"https://colab.research.google.com/github/ShinyRyo/streamlit_webcamera/blob/main/section_4/02_webapp.ipynb\" target=\"_parent\"><img src=\"https://colab.research.google.com/assets/colab-badge.svg\" alt=\"Open In Colab\"/></a>"
      ]
    },
    {
      "cell_type": "markdown",
      "metadata": {
        "id": "8kW_qXJVTjic"
      },
      "source": [
        "# 画像認識アプリ\n",
        "Streamlitを使い、画像を認識するアプリを作りましょう。  \n",
        "フレームワークにはPyTorch使い、オリジナルのCNNモデルを読み込んで使用します。"
      ]
    },
    {
      "cell_type": "markdown",
      "source": [
        "## ●ライブラリのインストール\n",
        "Streamlit、およびアプリの動作の確認に使用する「ngrok」をインストールします。"
      ],
      "metadata": {
        "id": "vRJCuxALcgkb"
      }
    },
    {
      "cell_type": "code",
      "execution_count": 1,
      "metadata": {
        "id": "Pbqipzj3nCy4",
        "outputId": "f1ad6aed-7e89-4ddc-faa3-9abce17b3c7b",
        "colab": {
          "base_uri": "https://localhost:8080/"
        }
      },
      "outputs": [
        {
          "output_type": "stream",
          "name": "stdout",
          "text": [
            "\u001b[K     |████████████████████████████████| 9.9 MB 4.3 MB/s \n",
            "\u001b[K     |████████████████████████████████| 78 kB 5.6 MB/s \n",
            "\u001b[K     |████████████████████████████████| 181 kB 50.8 MB/s \n",
            "\u001b[K     |████████████████████████████████| 4.3 MB 35.9 MB/s \n",
            "\u001b[K     |████████████████████████████████| 164 kB 39.5 MB/s \n",
            "\u001b[K     |████████████████████████████████| 63 kB 509 kB/s \n",
            "\u001b[K     |████████████████████████████████| 1.6 MB 30.7 MB/s \n",
            "\u001b[?25h  Building wheel for validators (setup.py) ... \u001b[?25l\u001b[?25hdone\n",
            "  Building wheel for pyngrok (setup.py) ... \u001b[?25l\u001b[?25hdone\n"
          ]
        }
      ],
      "source": [
        "!pip install streamlit==1.7.0 --quiet\n",
        "!pip install pyngrok==4.1.1 --quiet"
      ]
    },
    {
      "cell_type": "markdown",
      "source": [
        "Streamlit、およびngrokをインポートしておきます。  \n",
        "エラーが発生する場合は、「ランタイム」→「ランタイムを再起動」によりランタイムを再起動し、再びコードセルを上から順に実行しましょう。"
      ],
      "metadata": {
        "id": "husUkYy5dhZ4"
      }
    },
    {
      "cell_type": "code",
      "source": [
        "import streamlit as st\n",
        "from pyngrok import ngrok"
      ],
      "metadata": {
        "id": "OsHcq-kaDwIi",
        "outputId": "2dd4fe99-1321-4c98-b49f-627449b10d17",
        "colab": {
          "base_uri": "https://localhost:8080/"
        }
      },
      "execution_count": 2,
      "outputs": [
        {
          "output_type": "stream",
          "name": "stderr",
          "text": [
            "INFO:numexpr.utils:NumExpr defaulting to 2 threads.\n",
            "2022-08-20 08:33:44.876 INFO    numexpr.utils: NumExpr defaulting to 2 threads.\n"
          ]
        }
      ]
    },
    {
      "cell_type": "markdown",
      "source": [
        "## ●「モデル」を扱うファイル\n",
        "画像認識の訓練済みモデルを読み込み、予測を行うコードを「model.py」に書き込みます。  "
      ],
      "metadata": {
        "id": "KoBcfQYBTUSx"
      }
    },
    {
      "cell_type": "code",
      "source": [
        "%%writefile model.py\n",
        "# 以下を「model.py」に書き込み\n",
        "import torch\n",
        "import torch.nn as nn\n",
        "import torch.nn.functional as F\n",
        "from torchvision import models, transforms\n",
        "from PIL import Image\n",
        "\n",
        "classes_ja = [\"飛行機\", \"自動車\", \"鳥\", \"猫\", \"鹿\", \"犬\", \"カエル\", \"馬\", \"船\", \"トラック\"]\n",
        "classes_en = [\"airplane\", \"automobile\", \"bird\", \"cat\", \"deer\", \"dog\", \"frog\", \"horse\", \"ship\", \"truck\"]\n",
        "n_class = len(classes_ja)\n",
        "img_size = 32\n",
        "\n",
        "# CNNのモデル\n",
        "class Net(nn.Module):\n",
        "    def __init__(self):\n",
        "        super().__init__()\n",
        "        self.conv1 = nn.Conv2d(3, 6, 5)\n",
        "        self.pool = nn.MaxPool2d(2, 2)\n",
        "        self.conv2 = nn.Conv2d(6, 16, 5)\n",
        "        self.fc1 = nn.Linear(16*5*5, 256)\n",
        "        self.dropout = nn.Dropout(p=0.5)\n",
        "        self.fc2 = nn.Linear(256, 10)\n",
        "\n",
        "    def forward(self, x):\n",
        "        x = self.pool(F.relu(self.conv1(x)))\n",
        "        x = self.pool(F.relu(self.conv2(x)))\n",
        "        x = x.view(-1, 16*5*5)\n",
        "        x = F.relu(self.fc1(x))\n",
        "        x = self.dropout(x)\n",
        "        x = self.fc2(x)\n",
        "        return x\n",
        "\n",
        "def predict(img):\n",
        "    # モデルへの入力\n",
        "    img = img.convert(\"RGB\")\n",
        "    img = img.resize((img_size, img_size))\n",
        "    transform = transforms.Compose([transforms.ToTensor(),\n",
        "                                    transforms.Normalize((0.0, 0.0, 0.0), (1.0, 1.0, 1.0))  # 平均値を0、標準偏差を1に\n",
        "                                ])\n",
        "    img = transform(img)\n",
        "    x = img.reshape(1, 3, img_size, img_size)\n",
        "\n",
        "    # 訓練済みモデル\n",
        "    net = Net()\n",
        "    net.load_state_dict(torch.load(\n",
        "        \"model_cnn.pth\", map_location=torch.device(\"cpu\")\n",
        "        ))\n",
        "    \n",
        "    # 予測\n",
        "    net.eval()\n",
        "    y = net(x)\n",
        "\n",
        "    # 結果を返す\n",
        "    y_prob = torch.nn.functional.softmax(torch.squeeze(y))  # 確率で表す\n",
        "    sorted_prob, sorted_indices = torch.sort(y_prob, descending=True)  # 降順にソート\n",
        "    return [(classes_ja[idx], classes_en[idx], prob.item()) for idx, prob in zip(sorted_indices, sorted_prob)]"
      ],
      "metadata": {
        "id": "nmZpJOe9p6GF",
        "outputId": "97e77d89-d9ee-4a45-ff03-b65150f09f9f",
        "colab": {
          "base_uri": "https://localhost:8080/"
        }
      },
      "execution_count": 3,
      "outputs": [
        {
          "output_type": "stream",
          "name": "stdout",
          "text": [
            "Writing model.py\n"
          ]
        }
      ]
    },
    {
      "cell_type": "markdown",
      "source": [
        "## ●アプリのコード\n",
        "画像認識アプリのコードを、「app.py」に書き込みます。  \n",
        "ローカルからアップロード、もしくはWebカメラで撮影した画像ファイルに、何が映っているのかを判定します。  \n",
        "なお、Webカメラはngrokが発行したURLではセキュリティ上動作しないので、今回は動作を確認できません。"
      ],
      "metadata": {
        "id": "5fOtVgU5duPe"
      }
    },
    {
      "cell_type": "code",
      "source": [
        "%%writefile app.py\n",
        "# 以下を「app.py」に書き込み\n",
        "import streamlit as st\n",
        "import matplotlib.pyplot as plt\n",
        "from PIL import Image\n",
        "from model import predict\n",
        "\n",
        "st.set_option(\"deprecation.showfileUploaderEncoding\", False)\n",
        "\n",
        "st.sidebar.title(\"画像認識アプリ\")\n",
        "st.sidebar.write(\"オリジナルの画像認識モデルを使って何の画像かを判定します。\")\n",
        "\n",
        "st.sidebar.write(\"\")\n",
        "\n",
        "img_source = st.sidebar.radio(\"画像のソースを選択してください。\",\n",
        "                              (\"画像をアップロード\", \"カメラで撮影\"))\n",
        "if img_source == \"画像をアップロード\":\n",
        "    img_file = st.sidebar.file_uploader(\"画像を選択してください。\", type=[\"png\", \"jpg\"])\n",
        "elif img_source == \"カメラで撮影\":\n",
        "    img_file = st.camera_input(\"カメラで撮影\")\n",
        "\n",
        "if img_file is not None:\n",
        "    with st.spinner(\"推定中...\"):\n",
        "        img = Image.open(img_file)\n",
        "        st.image(img, caption=\"対象の画像\", width=480)\n",
        "        st.write(\"\")\n",
        "\n",
        "        # 予測\n",
        "        results = predict(img)\n",
        "\n",
        "        # 結果の表示\n",
        "        st.subheader(\"判定結果\")\n",
        "        n_top = 3  # 確率が高い順に3位まで返す\n",
        "        for result in results[:n_top]:\n",
        "            st.write(str(round(result[2]*100, 2)) + \"%の確率で\" + result[0] + \"です。\")\n",
        "\n",
        "        # 円グラフの表示\n",
        "        pie_labels = [result[1] for result in results[:n_top]]\n",
        "        pie_labels.append(\"others\")\n",
        "        pie_probs = [result[2] for result in results[:n_top]]\n",
        "        pie_probs.append(sum([result[2] for result in results[n_top:]]))\n",
        "        fig, ax = plt.subplots()\n",
        "        wedgeprops={\"width\":0.3, \"edgecolor\":\"white\"}\n",
        "        textprops = {\"fontsize\":6}\n",
        "        ax.pie(pie_probs, labels=pie_labels, counterclock=False, startangle=90,\n",
        "               textprops=textprops, autopct=\"%.2f\", wedgeprops=wedgeprops)  # 円グラフ\n",
        "        st.pyplot(fig)"
      ],
      "metadata": {
        "id": "Ntj_BU3bnJli",
        "outputId": "e36f5c2b-d9e3-4223-fa6a-f37c0f7e19bd",
        "colab": {
          "base_uri": "https://localhost:8080/"
        }
      },
      "execution_count": 4,
      "outputs": [
        {
          "output_type": "stream",
          "name": "stdout",
          "text": [
            "Writing app.py\n"
          ]
        }
      ]
    },
    {
      "cell_type": "markdown",
      "source": [
        "## ●Authtokenの設定\n",
        "ngrokで接続するために必要な「Authtoken」を設定します。  \n",
        "以下のコードの、  \n",
        "`!ngrok authtoken YourAuthtoken`  \n",
        "における  \n",
        "`YourAuthtoken`の箇所を、自分のAuthtokenに置き換えます。  \n",
        "Authtokenは、ngrokのサイトに登録すれば取得することができます。  \n",
        "https://ngrok.com/\n"
      ],
      "metadata": {
        "id": "j03EsJaHh4KK"
      }
    },
    {
      "cell_type": "code",
      "source": [
        "!ngrok authtoken 27Zw7eFxbZDe2QGwLPVoIETI7bk_5L8HaKyyzRyDG3QdTbAMv"
      ],
      "metadata": {
        "id": "mTfmORj2Dn7-",
        "outputId": "ec70df59-2baa-479e-a8bf-07db2d5ba6ed",
        "colab": {
          "base_uri": "https://localhost:8080/"
        }
      },
      "execution_count": 5,
      "outputs": [
        {
          "output_type": "stream",
          "name": "stdout",
          "text": [
            "Authtoken saved to configuration file: /root/.ngrok2/ngrok.yml\n"
          ]
        }
      ]
    },
    {
      "cell_type": "markdown",
      "source": [
        "## ●アプリの起動と動作確認\n",
        "streamlitの`run`コマンドでアプリを起動します。\n"
      ],
      "metadata": {
        "id": "CnobL05MkjB1"
      }
    },
    {
      "cell_type": "code",
      "source": [
        "!streamlit run app.py &>/dev/null&  # 「&>/dev/null&」により、出力を非表示にしてバックグランドジョブとして実行"
      ],
      "metadata": {
        "id": "W0jXlMXWK0vi"
      },
      "execution_count": 6,
      "outputs": []
    },
    {
      "cell_type": "markdown",
      "source": [
        "ngrokのプロセスを終了した上で、新たにポートを指定して接続します。  \n",
        "接続の結果、urlを取得できます。  \n",
        "ngrokの無料プランでは同時に1つのプロセスしか動かせないので、エラーが発生した場合は「ランタイム」→「セッションの管理」で不要なGoogle Colabのセッションを修了しましょう。  "
      ],
      "metadata": {
        "id": "W5RLCJ7Sl2x_"
      }
    },
    {
      "cell_type": "code",
      "source": [
        "ngrok.kill()  # プロセスの修了\n",
        "url = ngrok.connect(port=\"8501\")  # 接続"
      ],
      "metadata": {
        "id": "v23ymsdLK3x7",
        "outputId": "67bd3970-1275-4ef1-ea26-28f254d50424",
        "colab": {
          "base_uri": "https://localhost:8080/"
        }
      },
      "execution_count": 7,
      "outputs": [
        {
          "output_type": "stream",
          "name": "stderr",
          "text": [
            "INFO:pyngrok.process:ngrok process starting: 176\n",
            "2022-08-20 08:33:49.166 INFO    pyngrok.process: ngrok process starting: 176\n",
            "INFO:pyngrok.process:t=2022-08-20T08:33:49+0000 lvl=info msg=\"no configuration paths supplied\"\n",
            "\n",
            "2022-08-20 08:33:49.198 INFO    pyngrok.process: t=2022-08-20T08:33:49+0000 lvl=info msg=\"no configuration paths supplied\"\n",
            "\n",
            "INFO:pyngrok.process:t=2022-08-20T08:33:49+0000 lvl=info msg=\"using configuration at default config path\" path=/root/.ngrok2/ngrok.yml\n",
            "\n",
            "2022-08-20 08:33:49.211 INFO    pyngrok.process: t=2022-08-20T08:33:49+0000 lvl=info msg=\"using configuration at default config path\" path=/root/.ngrok2/ngrok.yml\n",
            "\n",
            "INFO:pyngrok.process:t=2022-08-20T08:33:49+0000 lvl=info msg=\"open config file\" path=/root/.ngrok2/ngrok.yml err=nil\n",
            "\n",
            "2022-08-20 08:33:49.219 INFO    pyngrok.process: t=2022-08-20T08:33:49+0000 lvl=info msg=\"open config file\" path=/root/.ngrok2/ngrok.yml err=nil\n",
            "\n",
            "INFO:pyngrok.process:t=2022-08-20T08:33:49+0000 lvl=info msg=\"starting web service\" obj=web addr=127.0.0.1:4040\n",
            "\n",
            "2022-08-20 08:33:49.226 INFO    pyngrok.process: t=2022-08-20T08:33:49+0000 lvl=info msg=\"starting web service\" obj=web addr=127.0.0.1:4040\n",
            "\n",
            "INFO:pyngrok.process:t=2022-08-20T08:33:49+0000 lvl=info msg=\"tunnel session started\" obj=tunnels.session\n",
            "\n",
            "2022-08-20 08:33:49.796 INFO    pyngrok.process: t=2022-08-20T08:33:49+0000 lvl=info msg=\"tunnel session started\" obj=tunnels.session\n",
            "\n",
            "INFO:pyngrok.process:t=2022-08-20T08:33:49+0000 lvl=info msg=\"client session established\" obj=csess id=71413d1701ed\n",
            "\n",
            "2022-08-20 08:33:49.801 INFO    pyngrok.process: t=2022-08-20T08:33:49+0000 lvl=info msg=\"client session established\" obj=csess id=71413d1701ed\n",
            "\n",
            "INFO:pyngrok.process:ngrok process has started: http://127.0.0.1:4040\n",
            "2022-08-20 08:33:49.810 INFO    pyngrok.process: ngrok process has started: http://127.0.0.1:4040\n",
            "INFO:pyngrok.process:t=2022-08-20T08:33:49+0000 lvl=info msg=start pg=/api/tunnels id=39f7a0f7c54bd343\n",
            "\n",
            "2022-08-20 08:33:49.842 INFO    pyngrok.process: t=2022-08-20T08:33:49+0000 lvl=info msg=start pg=/api/tunnels id=39f7a0f7c54bd343\n",
            "\n",
            "INFO:pyngrok.process:t=2022-08-20T08:33:49+0000 lvl=info msg=end pg=/api/tunnels id=39f7a0f7c54bd343 status=200 dur=412.556µs\n",
            "\n",
            "2022-08-20 08:33:49.853 INFO    pyngrok.process: t=2022-08-20T08:33:49+0000 lvl=info msg=end pg=/api/tunnels id=39f7a0f7c54bd343 status=200 dur=412.556µs\n",
            "\n",
            "INFO:pyngrok.process:t=2022-08-20T08:33:49+0000 lvl=info msg=start pg=/api/tunnels id=ce5327647a27749f\n",
            "\n",
            "2022-08-20 08:33:49.861 INFO    pyngrok.process: t=2022-08-20T08:33:49+0000 lvl=info msg=start pg=/api/tunnels id=ce5327647a27749f\n",
            "\n",
            "INFO:pyngrok.process:t=2022-08-20T08:33:49+0000 lvl=info msg=end pg=/api/tunnels id=ce5327647a27749f status=200 dur=176.886µs\n",
            "\n",
            "2022-08-20 08:33:49.871 INFO    pyngrok.process: t=2022-08-20T08:33:49+0000 lvl=info msg=end pg=/api/tunnels id=ce5327647a27749f status=200 dur=176.886µs\n",
            "\n",
            "INFO:pyngrok.process:t=2022-08-20T08:33:49+0000 lvl=info msg=start pg=/api/tunnels id=e0feb44235cb968f\n",
            "\n",
            "2022-08-20 08:33:49.879 INFO    pyngrok.process: t=2022-08-20T08:33:49+0000 lvl=info msg=start pg=/api/tunnels id=e0feb44235cb968f\n",
            "\n",
            "INFO:pyngrok.process:t=2022-08-20T08:33:50+0000 lvl=info msg=\"started tunnel\" obj=tunnels name=\"http-8501-2889e8a6-8ab9-46a8-8c32-debc749f0e8b (http)\" addr=http://localhost:8501 url=http://169d-35-221-168-150.ngrok.io\n",
            "\n",
            "2022-08-20 08:33:50.237 INFO    pyngrok.process: t=2022-08-20T08:33:50+0000 lvl=info msg=\"started tunnel\" obj=tunnels name=\"http-8501-2889e8a6-8ab9-46a8-8c32-debc749f0e8b (http)\" addr=http://localhost:8501 url=http://169d-35-221-168-150.ngrok.io\n",
            "\n",
            "INFO:pyngrok.process:t=2022-08-20T08:33:50+0000 lvl=info msg=\"started tunnel\" obj=tunnels name=http-8501-2889e8a6-8ab9-46a8-8c32-debc749f0e8b addr=http://localhost:8501 url=https://169d-35-221-168-150.ngrok.io\n",
            "\n",
            "2022-08-20 08:33:50.246 INFO    pyngrok.process: t=2022-08-20T08:33:50+0000 lvl=info msg=\"started tunnel\" obj=tunnels name=http-8501-2889e8a6-8ab9-46a8-8c32-debc749f0e8b addr=http://localhost:8501 url=https://169d-35-221-168-150.ngrok.io\n",
            "\n",
            "INFO:pyngrok.process:t=2022-08-20T08:33:50+0000 lvl=info msg=end pg=/api/tunnels id=e0feb44235cb968f status=201 dur=402.938334ms\n",
            "\n",
            "2022-08-20 08:33:50.255 INFO    pyngrok.process: t=2022-08-20T08:33:50+0000 lvl=info msg=end pg=/api/tunnels id=e0feb44235cb968f status=201 dur=402.938334ms\n",
            "\n"
          ]
        }
      ]
    },
    {
      "cell_type": "markdown",
      "source": [
        "urlを表示し、リンク先でアプリが動作することを確認します。"
      ],
      "metadata": {
        "id": "NZ0O_pNan57t"
      }
    },
    {
      "cell_type": "code",
      "source": [
        "print(url)"
      ],
      "metadata": {
        "id": "MIY7ositLAXC",
        "outputId": "039654f5-97d3-4063-a071-4712aabb717e",
        "colab": {
          "base_uri": "https://localhost:8080/"
        }
      },
      "execution_count": 8,
      "outputs": [
        {
          "output_type": "stream",
          "name": "stdout",
          "text": [
            "http://169d-35-221-168-150.ngrok.io\n"
          ]
        }
      ]
    },
    {
      "cell_type": "markdown",
      "source": [
        "## ●requirements.txtの作成\n",
        "Streamlit Cloudのサーバー上でアプリを動かすために、「requirements.txt」を作成する必要があります。  \n",
        "このファイルでは、必要なライブラリのバージョンを指定します。  \n"
      ],
      "metadata": {
        "id": "CCdXdIEWqWM4"
      }
    },
    {
      "cell_type": "markdown",
      "source": [
        "まずは、アプリでimportするライブラリのバージョンを確認します。"
      ],
      "metadata": {
        "id": "9foNw_ipq9Mv"
      }
    },
    {
      "cell_type": "code",
      "source": [
        "import streamlit\n",
        "import torch\n",
        "import torchvision\n",
        "import PIL\n",
        "import matplotlib\n",
        "\n",
        "print(\"streamlit==\" + streamlit.__version__)\n",
        "print(\"torch==\" + torch.__version__)\n",
        "print(\"torchvision==\" + torchvision.__version__)\n",
        "print(\"Pillow==\" + PIL.__version__)\n",
        "print(\"matplotlib==\" + matplotlib.__version__)"
      ],
      "metadata": {
        "id": "wzvY6S9qrCkD",
        "outputId": "0143d780-b1d1-44cd-84bb-94317375035e",
        "colab": {
          "base_uri": "https://localhost:8080/"
        }
      },
      "execution_count": 9,
      "outputs": [
        {
          "output_type": "stream",
          "name": "stdout",
          "text": [
            "streamlit==1.7.0\n",
            "torch==1.12.1+cu113\n",
            "torchvision==0.13.1+cu113\n",
            "Pillow==7.1.2\n",
            "matplotlib==3.2.2\n"
          ]
        }
      ]
    },
    {
      "cell_type": "markdown",
      "source": [
        "上記を参考に、各ライブラリの望ましいバージョンを記述しrequirements.txtに保存します。"
      ],
      "metadata": {
        "id": "oZ-YlfM8rt76"
      }
    },
    {
      "cell_type": "code",
      "source": [
        "with open(\"requirements.txt\", \"w\") as w:\n",
        "    w.write(\"streamlit==1.8.1\\n\")  # Streamlit Cloud上で動作が確認できたバージョン\n",
        "    w.write(\"torch==1.10.0\\n\")  # Cuda対応は要らないのでcu111は記述しない\n",
        "    w.write(\"torchvision==0.11.1\\n\")  # Cuda対応は要らないのでcu111は記述しない\n",
        "    w.write(\"Pillow\\n\")\n",
        "    w.write(\"matplotlib\\n\")"
      ],
      "metadata": {
        "id": "0h-58Ai2OO63"
      },
      "execution_count": 11,
      "outputs": []
    },
    {
      "cell_type": "markdown",
      "source": [
        "以下の作成されたファイルをダウンロードして、GitHubのレポジトリにアップしましょう。\n",
        "* app.py\n",
        "* model.py\n",
        "* requirements.txt"
      ],
      "metadata": {
        "id": "pVNwH5XOtAt-"
      }
    }
  ]
}